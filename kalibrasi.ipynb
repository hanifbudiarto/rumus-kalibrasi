{
  "nbformat": 4,
  "nbformat_minor": 0,
  "metadata": {
    "colab": {
      "provenance": [],
      "toc_visible": true,
      "authorship_tag": "ABX9TyOuz06vN5e/CzkJEjBjZBxl",
      "include_colab_link": true
    },
    "kernelspec": {
      "name": "python3",
      "display_name": "Python 3"
    },
    "language_info": {
      "name": "python"
    }
  },
  "cells": [
    {
      "cell_type": "markdown",
      "metadata": {
        "id": "view-in-github",
        "colab_type": "text"
      },
      "source": [
        "<a href=\"https://colab.research.google.com/github/hanifbudiarto/rumus-kalibrasi/blob/main/kalibrasi.ipynb\" target=\"_parent\"><img src=\"https://colab.research.google.com/assets/colab-badge.svg\" alt=\"Open In Colab\"/></a>"
      ]
    },
    {
      "cell_type": "code",
      "source": [
        "import yaml, json, statistics\n",
        "import pandas as pd"
      ],
      "metadata": {
        "id": "7VIeGs_8BPfM"
      },
      "execution_count": null,
      "outputs": []
    },
    {
      "cell_type": "code",
      "source": [
        "output = \"table\""
      ],
      "metadata": {
        "id": "fj9lyD-2kbwQ"
      },
      "execution_count": null,
      "outputs": []
    },
    {
      "cell_type": "code",
      "source": [
        "# === Fungsi interpolasi linear ===\n",
        "def interpolasi_linear(x, data_titik, param):\n",
        "    \"\"\"\n",
        "    Interpolasi linear untuk mencari koreksi berdasarkan titik acuan.\n",
        "    \"\"\"\n",
        "    data_titik = sorted(data_titik, key=lambda t: t[param])\n",
        "    for i in range(len(data_titik) - 1):\n",
        "        x1, x2 = data_titik[i][param], data_titik[i + 1][param]\n",
        "        y1, y2 = data_titik[i][\"koreksi\"], data_titik[i + 1][\"koreksi\"]\n",
        "        if x1 <= x <= x2:\n",
        "            koreksi = y1 + (y2 - y1) * (x - x1) / (x2 - x1)\n",
        "            return round(koreksi, 4)\n",
        "    return None  # jika di luar rentang"
      ],
      "metadata": {
        "id": "9Y7OH-0JPUUS"
      },
      "execution_count": null,
      "outputs": []
    },
    {
      "cell_type": "code",
      "source": [
        "# === Fungsi utama menerima data YAML (sudah dibaca) ===\n",
        "def cari_koreksi(data_input, data_referensi, presisi=4):\n",
        "    hasil = {}\n",
        "    ref = data_referensi[\"referensi_kondisi\"]\n",
        "\n",
        "    for param, nilai in data_input[\"data_pengukuran\"].items():\n",
        "        terukur_awal = nilai[\"terukur_awal\"]\n",
        "        terukur_akhir = nilai[\"terukur_akhir\"]\n",
        "\n",
        "        koreksi_awal = interpolasi_linear(terukur_awal, ref[param][\"titik_koreksi\"], param)\n",
        "        koreksi_akhir = interpolasi_linear(terukur_akhir, ref[param][\"titik_koreksi\"], param)\n",
        "\n",
        "        terkoreksi_awal = terukur_awal + koreksi_awal\n",
        "        terkoreksi_akhir = terukur_akhir + koreksi_akhir\n",
        "\n",
        "        # Hitung rata-rata dari nilai terkoreksi\n",
        "        rata_rata = (terkoreksi_awal + terkoreksi_akhir) / 2\n",
        "\n",
        "        hasil[param] = {\n",
        "            \"awal\": {\n",
        "                \"terukur\" : round(terukur_awal, presisi),\n",
        "                \"koreksi\" : round(koreksi_awal, presisi),\n",
        "                \"terkoreksi\" : round(terkoreksi_awal, presisi)\n",
        "            },\n",
        "            \"akhir\": {\n",
        "                \"terukur\" : round(terukur_akhir, presisi),\n",
        "                \"koreksi\" : round(koreksi_akhir, presisi),\n",
        "                \"terkoreksi\" : round(terkoreksi_akhir, presisi)\n",
        "            },\n",
        "            \"rata_rata_terkoreksi\": round(rata_rata, presisi),\n",
        "            \"standar_deviasi\": round(statistics.stdev([terkoreksi_awal, terkoreksi_akhir]), presisi)\n",
        "        }\n",
        "    return hasil"
      ],
      "metadata": {
        "id": "5eJ5dtI9KPTY"
      },
      "execution_count": null,
      "outputs": []
    },
    {
      "cell_type": "code",
      "source": [
        "def tampilkan_tabel_hasil(hasil, presisi=2):\n",
        "    \"\"\"\n",
        "    Menampilkan hasil perhitungan dalam bentuk tabel berwarna di Google Colab.\n",
        "\n",
        "    Parameter:\n",
        "      - hasil: dict hasil dari fungsi cari_koreksi()\n",
        "      - presisi: jumlah angka di belakang koma (default = 2)\n",
        "    \"\"\"\n",
        "\n",
        "    # === Susun data ke dalam list of dicts untuk DataFrame ===\n",
        "    rows = []\n",
        "    for param, data in hasil.items():\n",
        "        rows.append({\n",
        "            \"Parameter\": param.capitalize(),\n",
        "            \"Terukur Awal\": data[\"awal\"][\"terukur\"],\n",
        "            \"Terukur Akhir\": data[\"akhir\"][\"terukur\"],\n",
        "            \"Koreksi Awal\": data[\"awal\"][\"koreksi\"],\n",
        "            \"Koreksi Akhir\": data[\"akhir\"][\"koreksi\"],\n",
        "            \"Terkoreksi Awal\": data[\"awal\"][\"terkoreksi\"],\n",
        "            \"Terkoreksi Akhir\": data[\"akhir\"][\"terkoreksi\"],\n",
        "            \"Rata-rata Terkoreksi\": data[\"rata_rata_terkoreksi\"],\n",
        "            \"Standar Deviasi\": data[\"standar_deviasi\"],\n",
        "        })\n",
        "\n",
        "    df = pd.DataFrame(rows)\n",
        "\n",
        "    # === Fungsi pewarnaan kolom ===\n",
        "    def highlight_cols(x):\n",
        "        style = pd.DataFrame('', index=x.index, columns=x.columns)\n",
        "        style['Terukur Awal'] = 'background-color: #DAA520; color: white;'    # kuning tua\n",
        "        style['Terukur Akhir'] = 'background-color: #DAA520; color: white;'\n",
        "        style['Terkoreksi Awal'] = 'background-color: #8B0000; color: white;' # merah tua\n",
        "        style['Terkoreksi Akhir'] = 'background-color: #8B0000; color: white;'\n",
        "        return style\n",
        "\n",
        "    # === Styling dan format angka ===\n",
        "    styled_df = (\n",
        "        df.style\n",
        "        .apply(highlight_cols, axis=None)\n",
        "        .format({\n",
        "            \"Terukur Awal\": f\"{{:.{presisi}f}}\",\n",
        "            \"Terukur Akhir\": f\"{{:.{presisi}f}}\",\n",
        "            \"Koreksi Awal\": f\"{{:.{presisi}f}}\",\n",
        "            \"Koreksi Akhir\": f\"{{:.{presisi}f}}\",\n",
        "            \"Terkoreksi Awal\": f\"{{:.{presisi}f}}\",\n",
        "            \"Terkoreksi Akhir\": f\"{{:.{presisi}f}}\",\n",
        "            \"Rata-rata Terkoreksi\": f\"{{:.{presisi}f}}\",\n",
        "            \"Standar Deviasi\": f\"{{:.{presisi}f}}\",\n",
        "        })\n",
        "    )\n",
        "\n",
        "    display(styled_df)\n"
      ],
      "metadata": {
        "id": "PEkHa11_qhnM"
      },
      "execution_count": null,
      "outputs": []
    },
    {
      "cell_type": "code",
      "source": [
        "# === Bagian utama program ===\n",
        "if __name__ == \"__main__\":\n",
        "    # Baca dua file YAML\n",
        "    with open(\"input_kondisi.yaml\") as f1, open(\"referensi_kondisi.yaml\") as f2:\n",
        "        data_input = yaml.safe_load(f1)\n",
        "        data_referensi = yaml.safe_load(f2)\n",
        "\n",
        "    presisi = 2;\n",
        "\n",
        "    # Pass ke fungsi\n",
        "    hasil = cari_koreksi(data_input, data_referensi, presisi)\n",
        "\n",
        "    # Cetak hasil\n",
        "    if output == \"json\":\n",
        "        print(json.dumps(hasil, indent=2))\n",
        "    elif output == \"table\":\n",
        "        tampilkan_tabel_hasil(hasil, presisi=presisi)\n"
      ],
      "metadata": {
        "colab": {
          "base_uri": "https://localhost:8080/",
          "height": 149
        },
        "id": "12oo9s8CGmNh",
        "outputId": "c522aaeb-ad60-4ff2-be0d-ecc0e830ded5"
      },
      "execution_count": null,
      "outputs": [
        {
          "output_type": "display_data",
          "data": {
            "text/plain": [
              "<pandas.io.formats.style.Styler at 0x7c7399f0df40>"
            ],
            "text/html": [
              "<style type=\"text/css\">\n",
              "#T_57cc3_row0_col1, #T_57cc3_row0_col2, #T_57cc3_row1_col1, #T_57cc3_row1_col2 {\n",
              "  background-color: #DAA520;\n",
              "  color: white;\n",
              "}\n",
              "#T_57cc3_row0_col5, #T_57cc3_row0_col6, #T_57cc3_row1_col5, #T_57cc3_row1_col6 {\n",
              "  background-color: #8B0000;\n",
              "  color: white;\n",
              "}\n",
              "</style>\n",
              "<table id=\"T_57cc3\" class=\"dataframe\">\n",
              "  <thead>\n",
              "    <tr>\n",
              "      <th class=\"blank level0\" >&nbsp;</th>\n",
              "      <th id=\"T_57cc3_level0_col0\" class=\"col_heading level0 col0\" >Parameter</th>\n",
              "      <th id=\"T_57cc3_level0_col1\" class=\"col_heading level0 col1\" >Terukur Awal</th>\n",
              "      <th id=\"T_57cc3_level0_col2\" class=\"col_heading level0 col2\" >Terukur Akhir</th>\n",
              "      <th id=\"T_57cc3_level0_col3\" class=\"col_heading level0 col3\" >Koreksi Awal</th>\n",
              "      <th id=\"T_57cc3_level0_col4\" class=\"col_heading level0 col4\" >Koreksi Akhir</th>\n",
              "      <th id=\"T_57cc3_level0_col5\" class=\"col_heading level0 col5\" >Terkoreksi Awal</th>\n",
              "      <th id=\"T_57cc3_level0_col6\" class=\"col_heading level0 col6\" >Terkoreksi Akhir</th>\n",
              "      <th id=\"T_57cc3_level0_col7\" class=\"col_heading level0 col7\" >Rata-rata Terkoreksi</th>\n",
              "      <th id=\"T_57cc3_level0_col8\" class=\"col_heading level0 col8\" >Standar Deviasi</th>\n",
              "    </tr>\n",
              "  </thead>\n",
              "  <tbody>\n",
              "    <tr>\n",
              "      <th id=\"T_57cc3_level0_row0\" class=\"row_heading level0 row0\" >0</th>\n",
              "      <td id=\"T_57cc3_row0_col0\" class=\"data row0 col0\" >Suhu</td>\n",
              "      <td id=\"T_57cc3_row0_col1\" class=\"data row0 col1\" >25.50</td>\n",
              "      <td id=\"T_57cc3_row0_col2\" class=\"data row0 col2\" >25.40</td>\n",
              "      <td id=\"T_57cc3_row0_col3\" class=\"data row0 col3\" >-0.02</td>\n",
              "      <td id=\"T_57cc3_row0_col4\" class=\"data row0 col4\" >-0.02</td>\n",
              "      <td id=\"T_57cc3_row0_col5\" class=\"data row0 col5\" >25.48</td>\n",
              "      <td id=\"T_57cc3_row0_col6\" class=\"data row0 col6\" >25.38</td>\n",
              "      <td id=\"T_57cc3_row0_col7\" class=\"data row0 col7\" >25.43</td>\n",
              "      <td id=\"T_57cc3_row0_col8\" class=\"data row0 col8\" >0.07</td>\n",
              "    </tr>\n",
              "    <tr>\n",
              "      <th id=\"T_57cc3_level0_row1\" class=\"row_heading level0 row1\" >1</th>\n",
              "      <td id=\"T_57cc3_row1_col0\" class=\"data row1 col0\" >Kelembapan</td>\n",
              "      <td id=\"T_57cc3_row1_col1\" class=\"data row1 col1\" >55.80</td>\n",
              "      <td id=\"T_57cc3_row1_col2\" class=\"data row1 col2\" >55.60</td>\n",
              "      <td id=\"T_57cc3_row1_col3\" class=\"data row1 col3\" >4.63</td>\n",
              "      <td id=\"T_57cc3_row1_col4\" class=\"data row1 col4\" >4.62</td>\n",
              "      <td id=\"T_57cc3_row1_col5\" class=\"data row1 col5\" >60.43</td>\n",
              "      <td id=\"T_57cc3_row1_col6\" class=\"data row1 col6\" >60.22</td>\n",
              "      <td id=\"T_57cc3_row1_col7\" class=\"data row1 col7\" >60.33</td>\n",
              "      <td id=\"T_57cc3_row1_col8\" class=\"data row1 col8\" >0.15</td>\n",
              "    </tr>\n",
              "  </tbody>\n",
              "</table>\n"
            ]
          },
          "metadata": {}
        }
      ]
    }
  ]
}